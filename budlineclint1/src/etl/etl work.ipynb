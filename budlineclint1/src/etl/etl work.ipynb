{
 "cells": [
  {
   "cell_type": "markdown",
   "metadata": {
    "application/vnd.databricks.v1+cell": {
     "cellMetadata": {},
     "inputWidgets": {},
     "nuid": "ee353e42-ff58-4955-9608-12865bd0950e",
     "showTitle": false,
     "title": ""
    }
   },
   "source": [
    "# ETL notebook\n",
    "\n",
    "This default notebook is executed using Databricks Workflows as defined in resources/budlineclint1.job.yml."
   ]
  },
  {
   "cell_type": "code",
   "execution_count": 2,
   "metadata": {},
   "outputs": [
    {
     "name": "stdout",
     "output_type": "stream",
     "text": [
      "Person DataFrame:\n",
      "  pid personName\n",
      "0  P1      Alice\n",
      "1  P2        Bob\n",
      "2  P3    Charlie\n",
      "\n",
      "Sales DataFrame:\n",
      "  personid product  sales_amount        date\n",
      "0       P1  Laptop          1200  2023-01-01\n",
      "1       P2   Phone           800  2023-01-02\n",
      "2       P3  Tablet           600  2023-01-03\n"
     ]
    }
   ],
   "source": [
    "import pandas as pd\n",
    "\n",
    "# Create the first dataframe\n",
    "df_person = pd.DataFrame({\n",
    "    'pid': ['P1', 'P2', 'P3'],\n",
    "    'personName': ['Alice', 'Bob', 'Charlie']\n",
    "})\n",
    "\n",
    "# Create the second dataframe\n",
    "df_sales = pd.DataFrame({\n",
    "    'personid': ['P1', 'P2', 'P3'],\n",
    "    'product': ['Laptop', 'Phone', 'Tablet'],\n",
    "    'sales_amount': [1200, 800, 600],\n",
    "    'date': ['2023-01-01', '2023-01-02', '2023-01-03']\n",
    "})\n",
    "\n",
    "print(\"Person DataFrame:\")\n",
    "print(df_person)\n",
    "print(\"\\nSales DataFrame:\")\n",
    "print(df_sales)"
   ]
  },
  {
   "cell_type": "code",
   "execution_count": null,
   "metadata": {},
   "outputs": [],
   "source": []
  }
 ],
 "metadata": {
  "application/vnd.databricks.v1+notebook": {
   "dashboards": [],
   "language": "python",
   "notebookMetadata": {
    "pythonIndentUnit": 2
   },
   "notebookName": "notebook",
   "widgets": {}
  },
  "kernelspec": {
   "display_name": ".venv",
   "language": "python",
   "name": "python3"
  },
  "language_info": {
   "codemirror_mode": {
    "name": "ipython",
    "version": 3
   },
   "file_extension": ".py",
   "mimetype": "text/x-python",
   "name": "python",
   "nbconvert_exporter": "python",
   "pygments_lexer": "ipython3",
   "version": "3.11.9"
  }
 },
 "nbformat": 4,
 "nbformat_minor": 0
}
