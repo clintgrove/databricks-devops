{
 "cells": [
  {
   "cell_type": "markdown",
   "metadata": {
    "application/vnd.databricks.v1+cell": {
     "cellMetadata": {
      "byteLimit": 2048000,
      "rowLimit": 10000
     },
     "inputWidgets": {},
     "nuid": "b7ddb4c7-fbc0-41e2-aa59-e1d2e06b761a",
     "showTitle": false,
     "tableResultSettingsMap": {},
     "title": ""
    }
   },
   "source": [
    "1. Set up a key vault secret scope on databricks databricksurl/#secrets/createScope\n",
    "1. Create a constants class to get the secret values\n",
    "1. Add libraries to cluster for DataFactoryManagementClient and ClientSecretCredential\n",
    "1. Make sure to have them as imports in your Functions file\n",
    "\n",
    "use this if you can't create a cluster \n",
    "`az vm list-skus --location westeurope --size Standard_D --all --output table`"
   ]
  },
  {
   "cell_type": "code",
   "execution_count": 0,
   "metadata": {
    "application/vnd.databricks.v1+cell": {
     "cellMetadata": {
      "byteLimit": 2048000,
      "rowLimit": 10000
     },
     "inputWidgets": {},
     "nuid": "0fda8a64-fda8-474a-a0b9-cb68d51618fa",
     "showTitle": false,
     "tableResultSettingsMap": {},
     "title": ""
    }
   },
   "outputs": [],
   "source": [
    "# import importlib.util\n",
    "# import logging\n",
    "# import os\n",
    "\n",
    "# # Set up logging\n",
    "# logging.basicConfig(level=logging.ERROR)\n",
    "# logger = logging.getLogger(__name__)\n",
    "\n",
    "# file_path = os.path.join(os.getcwd(), \"Data_Factory_Functions.py\")\n",
    "# spec = importlib.util.spec_from_file_location(\"dff\", file_path)\n",
    "# dff = importlib.util.module_from_spec(spec)\n",
    "# spec.loader.exec_module(dff)"
   ]
  },
  {
   "cell_type": "code",
   "execution_count": 0,
   "metadata": {
    "application/vnd.databricks.v1+cell": {
     "cellMetadata": {
      "byteLimit": 2048000,
      "rowLimit": 10000
     },
     "inputWidgets": {},
     "nuid": "a7c54c91-92c2-4422-80e0-e2bb90cc8edf",
     "showTitle": false,
     "tableResultSettingsMap": {},
     "title": ""
    }
   },
   "outputs": [],
   "source": [
    "import sys\n",
    "sys.path.append('/Workspace/Users/admin@mngenvmcap562520.onmicrosoft.com/DataFactoryOperations')\n",
    "from Data_Factory_Functions import *\n",
    "#from Data_Factory_Functions import *"
   ]
  },
  {
   "cell_type": "code",
   "execution_count": 0,
   "metadata": {
    "application/vnd.databricks.v1+cell": {
     "cellMetadata": {
      "byteLimit": 2048000,
      "rowLimit": 10000
     },
     "inputWidgets": {},
     "nuid": "32cbe68e-d636-414f-80ec-aa9b68385ab1",
     "showTitle": false,
     "tableResultSettingsMap": {},
     "title": ""
    }
   },
   "outputs": [],
   "source": [
    "pipeline_name = \"pipeline1\"\n",
    "parameters = {'fillMeuseMe': 'try3'}\n",
    "pipeline_status = run_adf_pipeline(pipeline_name, parameters=parameters)\n",
    "\n",
    "if pipeline_status == \"Succeeded\":\n",
    "    print(\"succeeded\")\n",
    "else: \n",
    "    print(\"failed\")"
   ]
  }
 ],
 "metadata": {
  "application/vnd.databricks.v1+notebook": {
   "computePreferences": null,
   "dashboards": [],
   "environmentMetadata": {
    "base_environment": "",
    "environment_version": "2"
   },
   "language": "python",
   "notebookMetadata": {
    "pythonIndentUnit": 4
   },
   "notebookName": "Data Factory Notebook Fire off pipeline",
   "widgets": {}
  },
  "language_info": {
   "name": "python"
  }
 },
 "nbformat": 4,
 "nbformat_minor": 0
}
